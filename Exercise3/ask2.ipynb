{
 "cells": [
  {
   "cell_type": "code",
   "execution_count": 2,
   "id": "aa27abff",
   "metadata": {},
   "outputs": [],
   "source": [
    "import numpy as np\n",
    "import pandas as pd\n",
    "import matplotlib.pyplot as plt\n",
    "import sklearn.metrics\n",
    "import sklearn.feature_extraction.text\n",
    "import sklearn.model_selection\n",
    "import sklearn.linear_model\n",
    "import sklearn.svm\n",
    "import sklearn.neighbors\n",
    "import gensim.models\n",
    "\n",
    "\n",
    "#Ease of Life libraries used to simulate progression of slow algorithms\n",
    "from ipywidgets import IntProgress\n",
    "from IPython.display import display\n",
    "import time"
   ]
  },
  {
   "cell_type": "markdown",
   "id": "76e134ae",
   "metadata": {},
   "source": [
    "# Data Preperation\n",
    "We first load the data as expected. The fold process is done by breaking the data into 5 different sets. Each time we run the split code, 5 new folds are created. Nothing more to be said here."
   ]
  },
  {
   "cell_type": "code",
   "execution_count": 3,
   "id": "29e8e929",
   "metadata": {},
   "outputs": [
    {
     "name": "stdout",
     "output_type": "stream",
     "text": [
      "<class 'pandas.core.frame.DataFrame'>\n",
      "Int64Index: 155553 entries, 3 to 893888\n",
      "Data columns (total 9 columns):\n",
      " #   Column       Non-Null Count   Dtype  \n",
      "---  ------       --------------   -----  \n",
      " 0   review_id    155553 non-null  object \n",
      " 1   user_id      155553 non-null  object \n",
      " 2   business_id  155553 non-null  object \n",
      " 3   stars        155553 non-null  float64\n",
      " 4   useful       155553 non-null  int64  \n",
      " 5   funny        155553 non-null  int64  \n",
      " 6   cool         155553 non-null  int64  \n",
      " 7   text         155553 non-null  object \n",
      " 8   date         155553 non-null  object \n",
      "dtypes: float64(1), int64(3), object(5)\n",
      "memory usage: 11.9+ MB\n"
     ]
    }
   ],
   "source": [
    "#Load Data\n",
    "businesses = pd.read_csv(\"philly_restaurants_categories.csv\", encoding=\"latin\")\n",
    "\n",
    "reviews = pd.read_csv(\"filtered_reviews.csv\", encoding=\"latin\")\n",
    "#Fetch the reviews we care about\n",
    "reviews = reviews[reviews[\"business_id\"].isin(businesses[\"business_id\"])]\n",
    "reviews.info()"
   ]
  },
  {
   "cell_type": "code",
   "execution_count": 6,
   "id": "bf9c1645",
   "metadata": {},
   "outputs": [],
   "source": [
    "documents = reviews.groupby([\"business_id\"])[\"text\"].sum().to_frame()\n",
    "\n",
    "#Suffle the documents to get different Folds each time.\n",
    "documents = documents.sample(frac=1)\n",
    "splitDocuments = []\n",
    "for i in range(5):\n",
    "    if i == 4:\n",
    "        splitDocuments.append(documents[i*190:])\n",
    "        break\n",
    "    splitDocuments.append(documents[i*190:(i+1)*190])"
   ]
  },
  {
   "cell_type": "markdown",
   "id": "a50e791a",
   "metadata": {},
   "source": [
    "# Part 1: TF-IDF \n",
    "We start off using the TF-IDF vectorization method. By applying sklearn's vectorizer, we transform each summed review into a vector. By mirroring a similar but generalized approach as in the previous exercise set, we use 3000 features and the common english stopwords. Therafter, we train the three models (SVM, KNN and LogReg), and calculate the results."
   ]
  },
  {
   "cell_type": "code",
   "execution_count": 30,
   "id": "9a32292b",
   "metadata": {},
   "outputs": [
    {
     "data": {
      "application/vnd.jupyter.widget-view+json": {
       "model_id": "fd584d430c0a49639e5a1555ee4f5cc0",
       "version_major": 2,
       "version_minor": 0
      },
      "text/plain": [
       "IntProgress(value=0, max=20)"
      ]
     },
     "metadata": {},
     "output_type": "display_data"
    },
    {
     "name": "stdout",
     "output_type": "stream",
     "text": [
      "Highest Valued Words: \n",
      " sushi, burger, pizza, italian, fries, pasta, ramen, rice, burgers, korean, wine, breakfast, mcdonald, japanese, wendy, wings, drive, bread, chinese, hibachi \n",
      "\n",
      "Lowest Negative Valued Words: \n",
      " sushi, pizza, italian, burger, sushi, fries, pasta, burger, cheese, ramen, rice, ramen, sandwich, italian, pizza, fries, wings, burgers, pasta, wine\n"
     ]
    }
   ],
   "source": [
    "loadingBar = IntProgress(min=0, max=5*4) # instantiate the bar\n",
    "display(loadingBar)\n",
    "\n",
    "svm_cm, knn_cm, lr_cm = -1, -1, -1\n",
    "svm_precision, knn_precision, lr_precision = 0, 0, 0\n",
    "svm_recall, knn_recall, lr_recall = 0, 0, 0\n",
    "svm_f1, knn_f1, lr_f1 = 0, 0, 0\n",
    "\n",
    "for fold in range(5):\n",
    "    #Get each train/test set\n",
    "    testData = splitDocuments[fold].reset_index()\n",
    "    trainData = documents.copy().reset_index()\n",
    "    trainData = trainData[~trainData[\"business_id\"].isin(testData[\"business_id\"])]\n",
    "\n",
    "    #Train the vectorizer\n",
    "    vectorizer = sklearn.feature_extraction.text.TfidfVectorizer(max_features=3_000, stop_words=\"english\")\n",
    "    matrix = vectorizer.fit_transform(trainData[\"text\"]).toarray()\n",
    "    trainData[\"vector\"] = [matrix[i].tolist() for i in range(len(matrix))]\n",
    "    trainData = trainData.merge(right=businesses, left_on=\"business_id\", right_on=\"business_id\")\n",
    "\n",
    "    #Transform the Test data for predicting.\n",
    "    matrix = vectorizer.transform(testData[\"text\"]).toarray()\n",
    "    testData[\"vector\"] = [matrix[i].tolist() for i in range(len(matrix))]\n",
    "    testData = testData.merge(right=businesses, left_on=\"business_id\", right_on=\"business_id\")\n",
    "    loadingBar.value += 1\n",
    "    \n",
    "    #SVM\n",
    "    svm = sklearn.svm.SVC()\n",
    "    svm.fit(list(trainData[\"vector\"]), trainData[\"category\"])\n",
    "    pred = svm.predict(list(testData[\"vector\"]))\n",
    "    testData[\"svm_predict\"] = pred\n",
    "    loadingBar.value += 1\n",
    "    \n",
    "    #KNN\n",
    "    knn = sklearn.neighbors.KNeighborsClassifier(n_neighbors=3)\n",
    "    knn.fit(list(trainData[\"vector\"]), trainData[\"category\"])\n",
    "    pred = knn.predict(list(testData[\"vector\"]))\n",
    "    testData[\"knn_predict\"] = pred\n",
    "    loadingBar.value += 1\n",
    "    \n",
    "    #<!-- Last fold should get some specific words!! --!>\n",
    "    #Logistic Regression\n",
    "    logReg = sklearn.linear_model.LogisticRegression()\n",
    "    logReg.fit(list(trainData[\"vector\"]), trainData[\"category\"])\n",
    "\n",
    "    pred = logReg.predict(list(testData[\"vector\"]))\n",
    "    testData[\"lr_predict\"] = pred\n",
    "    loadingBar.value += 1\n",
    "    \n",
    "    if fold == 4:      \n",
    "        wordMap = vectorizer.vocabulary_\n",
    "        wordMap = { j:i for i,j in wordMap.items()}\n",
    "\n",
    "        values = logReg.coef_\n",
    "        flatValues = np.sort(values.flatten())\n",
    "\n",
    "        highestWords = []\n",
    "        highestValues = np.flip(flatValues[-20:])\n",
    "        for v in highestValues:\n",
    "            i,j = np.where(np.isclose(values, v))\n",
    "            i, j = i[0], j[0]\n",
    "            highestWords.append(wordMap[j])\n",
    "\n",
    "\n",
    "        highestValues = flatValues[:20]\n",
    "        lowestWords = []\n",
    "        for v in highestValues:\n",
    "            i,j = np.where(np.isclose(values, v))\n",
    "            i, j = i[0], j[0]\n",
    "            lowestWords.append(wordMap[j])\n",
    "\n",
    "        print(\"Highest Valued Words: \\n\", \", \".join(highestWords), \"\\n\")\n",
    "        print(\"Lowest Negative Valued Words: \\n\", \", \".join(lowestWords))\n",
    "    \n",
    "    #Calculate F1, precision recall and confusion\n",
    "    #Confusion Matrixes\n",
    "    _svm_cm = sklearn.metrics.confusion_matrix(testData[\"category\"], testData[\"svm_predict\"])\n",
    "    _knn_cm = sklearn.metrics.confusion_matrix(testData[\"category\"], testData[\"knn_predict\"])\n",
    "    _lr_cm = sklearn.metrics.confusion_matrix(testData[\"category\"], testData[\"lr_predict\"])\n",
    "    \n",
    "    if fold == 0:\n",
    "        svm_cm, knn_cm, lr_cm = _svm_cm, _knn_cm, _lr_cm\n",
    "    else:\n",
    "        svm_cm += _svm_cm\n",
    "        knn_cm += _knn_cm\n",
    "        lr_cm += _lr_cm\n",
    "       \n",
    "    svm_precision += sklearn.metrics.precision_score(testData[\"category\"], testData[\"svm_predict\"], average=\"macro\")\n",
    "    knn_precision += sklearn.metrics.precision_score(testData[\"category\"], testData[\"knn_predict\"], average=\"macro\")\n",
    "    lr_precision += sklearn.metrics.precision_score(testData[\"category\"], testData[\"lr_predict\"], average=\"macro\")\n",
    "\n",
    "    svm_recall += sklearn.metrics.recall_score(testData[\"category\"], testData[\"svm_predict\"], average=\"macro\")\n",
    "    knn_recall += sklearn.metrics.recall_score(testData[\"category\"], testData[\"knn_predict\"], average=\"macro\")\n",
    "    lr_recall += sklearn.metrics.recall_score(testData[\"category\"], testData[\"lr_predict\"], average=\"macro\")\n",
    "\n",
    "    svm_f1 += sklearn.metrics.f1_score(testData[\"category\"], testData[\"svm_predict\"], average=\"macro\")\n",
    "    knn_f1 += sklearn.metrics.f1_score(testData[\"category\"], testData[\"knn_predict\"], average=\"macro\")\n",
    "    lr_f1 += sklearn.metrics.f1_score(testData[\"category\"], testData[\"lr_predict\"], average=\"macro\")\n"
   ]
  },
  {
   "cell_type": "markdown",
   "id": "9680f3b3",
   "metadata": {},
   "source": [
    "# TF-IDF Words\n",
    "Intrestingly, the highest and lowest valued words seem to be almost identical! This makes sense, since words that are important identifiers for each category, are also bad identifiers for other categories. \"Sushi\" for example is a high valued word for the \"Japanese\" category but a very negative word for \"Burger\" and \"Italian\"."
   ]
  },
  {
   "cell_type": "code",
   "execution_count": 8,
   "id": "3977cf5b",
   "metadata": {},
   "outputs": [],
   "source": [
    "#Function to generate multiple confusion matrixes\n",
    "def generateConfusionMatrix(cm, index=-1, name=\"\"):\n",
    "    if index != -1:\n",
    "        ax = plt.subplot(130+index)\n",
    "        plt.subplot(1,3,index)\n",
    "        plt.title(name)\n",
    "    else:\n",
    "        ax = plt.subplot(111)\n",
    "    ax.matshow(cm, cmap=\"hot\")\n",
    "    for i in range(len(cm)):\n",
    "        for j in range(len(cm[0])):\n",
    "            ax.text(x=j, y=i,s=cm[i, j], va='center', ha='center', size='xx-large', color=\"cyan\")"
   ]
  },
  {
   "cell_type": "code",
   "execution_count": 31,
   "id": "25008a0f",
   "metadata": {},
   "outputs": [
    {
     "name": "stdout",
     "output_type": "stream",
     "text": [
      "============PRECISION============\n",
      "SVM :  0.928\n",
      "KNN :  0.910\n",
      "LogReg :  0.928\n",
      "============RECALL============\n",
      "SVM :  0.923\n",
      "KNN :  0.905\n",
      "LogReg :  0.922\n",
      "============F1 SCORE============\n",
      "SVM :  0.925\n",
      "KNN :  0.907\n",
      "LogReg :  0.924\n"
     ]
    }
   ],
   "source": [
    "print(\"============PRECISION============\")\n",
    "print(\"SVM : \", str(svm_precision/5)[:5])\n",
    "print(\"KNN : \", str(knn_precision/5)[:5])\n",
    "print(\"LogReg : \", str(lr_precision/5)[:5])\n",
    "\n",
    "print(\"============RECALL============\")\n",
    "print(\"SVM : \", str(svm_recall/5)[:5])\n",
    "print(\"KNN : \", str(knn_recall/5)[:5])\n",
    "print(\"LogReg : \", str(lr_recall/5)[:5])\n",
    "\n",
    "print(\"============F1 SCORE============\")\n",
    "print(\"SVM : \", str(svm_f1/5)[:5])\n",
    "print(\"KNN : \", str(knn_f1/5)[:5])\n",
    "print(\"LogReg : \", str(lr_f1/5)[:5])"
   ]
  },
  {
   "cell_type": "code",
   "execution_count": 117,
   "id": "a5d43d59",
   "metadata": {},
   "outputs": [
    {
     "data": {
      "image/png": "[encoded data removed]",
      "text/plain": [
       "<Figure size 1080x720 with 3 Axes>"
      ]
     },
     "metadata": {
      "needs_background": "light"
     },
     "output_type": "display_data"
    }
   ],
   "source": [
    "plt.figure(figsize=(15,10))\n",
    "generateConfusionMatrix(svm_cm/5, index=1, name=\"SVM\")\n",
    "generateConfusionMatrix(knn_cm/5, index=2, name=\"KNN\")\n",
    "generateConfusionMatrix(lr_cm/5, index=3, name=\"Logistic Regression\")"
   ]
  },
  {
   "cell_type": "markdown",
   "id": "4b86f853",
   "metadata": {},
   "source": [
    "# Part 2 - Embeddings\n",
    "\n",
    "## CBOW\n",
    "\n",
    "For each embedding, the same code was used as in TF-IDF. This time however, we train our CBOW embedding with our words, and generate the vectors using the Average of each review's vectorized words."
   ]
  },
  {
   "cell_type": "code",
   "execution_count": 10,
   "id": "87756add",
   "metadata": {},
   "outputs": [
    {
     "data": {
      "application/vnd.jupyter.widget-view+json": {
       "model_id": "e34d0c45e3a64938bbc3e2b3583ae7ef",
       "version_major": 2,
       "version_minor": 0
      },
      "text/plain": [
       "IntProgress(value=0, max=20)"
      ]
     },
     "metadata": {},
     "output_type": "display_data"
    }
   ],
   "source": [
    "#CBOW\n",
    "loadingBar = IntProgress(min=0, max=5*4) # instantiate the bar\n",
    "display(loadingBar)\n",
    "\n",
    "svm_cm, knn_cm, lr_cm = -1, -1, -1\n",
    "svm_precision, knn_precision, lr_precision = 0, 0, 0\n",
    "svm_recall, knn_recall, lr_recall = 0, 0, 0\n",
    "svm_f1, knn_f1, lr_f1 = 0, 0, 0\n",
    "\n",
    "for fold in range(5):\n",
    "    #Get each train/test set\n",
    "    testData = splitDocuments[fold].reset_index()\n",
    "    trainData = documents.copy().reset_index()\n",
    "    trainData = trainData[~trainData[\"business_id\"].isin(testData[\"business_id\"])]\n",
    "    trainData[\"text\"] = trainData[\"text\"].apply(lambda x : x.split(\" \"))\n",
    "    testData[\"text\"] = testData[\"text\"].apply(lambda x : x.split(\" \"))\n",
    "\n",
    "    embedding_CBOW = gensim.models.Word2Vec(trainData[\"text\"]) \n",
    "    \n",
    "    trainVectors = [np.array([embedding_CBOW.wv[x] for x in y if x in embedding_CBOW.wv.key_to_index]).mean(axis = 0) for y in trainData[\"text\"]]\n",
    "    trainData[\"vector\"] = trainVectors\n",
    "    \n",
    "    testVectors = [np.array([embedding_CBOW.wv[x] for x in y if x in embedding_CBOW.wv.key_to_index]).mean(axis = 0) for y in testData[\"text\"]]\n",
    "    testData[\"vector\"] = testVectors\n",
    "    \n",
    "    trainData = trainData.merge(right=businesses, left_on=\"business_id\", right_on=\"business_id\")\n",
    "    testData = testData.merge(right=businesses, left_on=\"business_id\", right_on=\"business_id\")\n",
    "    loadingBar.value += 1\n",
    "    \n",
    "    #SVM\n",
    "    svm = sklearn.svm.SVC()\n",
    "    svm.fit(list(trainData[\"vector\"]), trainData[\"category\"])\n",
    "    pred = svm.predict(list(testData[\"vector\"]))\n",
    "    testData[\"svm_predict\"] = pred\n",
    "    loadingBar.value += 1\n",
    "    \n",
    "    #KNN\n",
    "    knn = sklearn.neighbors.KNeighborsClassifier(n_neighbors=3)\n",
    "    knn.fit(list(trainData[\"vector\"]), trainData[\"category\"])\n",
    "    pred = knn.predict(list(testData[\"vector\"]))\n",
    "    testData[\"knn_predict\"] = pred\n",
    "    loadingBar.value += 1\n",
    "    \n",
    "    #<!-- Last fold should get some specific words!! --!>\n",
    "    #Logistic Regression\n",
    "    logReg = sklearn.linear_model.LogisticRegression(max_iter=300)\n",
    "    logReg.fit(list(trainData[\"vector\"]), trainData[\"category\"])\n",
    "\n",
    "    pred = logReg.predict(list(testData[\"vector\"]))\n",
    "    testData[\"lr_predict\"] = pred\n",
    "    loadingBar.value += 1\n",
    "    \n",
    "    \n",
    "    #Calculate F1, precision recall and confusion\n",
    "    #Confusion Matrixes\n",
    "    _svm_cm = sklearn.metrics.confusion_matrix(testData[\"category\"], testData[\"svm_predict\"])\n",
    "    _knn_cm = sklearn.metrics.confusion_matrix(testData[\"category\"], testData[\"knn_predict\"])\n",
    "    _lr_cm = sklearn.metrics.confusion_matrix(testData[\"category\"], testData[\"lr_predict\"])\n",
    "    \n",
    "    if fold == 0:\n",
    "        svm_cm, knn_cm, lr_cm = _svm_cm, _knn_cm, _lr_cm\n",
    "    else:\n",
    "        svm_cm += _svm_cm\n",
    "        knn_cm += _knn_cm\n",
    "        lr_cm += _lr_cm\n",
    "       \n",
    "    svm_precision += sklearn.metrics.precision_score(testData[\"category\"], testData[\"svm_predict\"], average=\"macro\")\n",
    "    knn_precision += sklearn.metrics.precision_score(testData[\"category\"], testData[\"knn_predict\"], average=\"macro\")\n",
    "    lr_precision += sklearn.metrics.precision_score(testData[\"category\"], testData[\"lr_predict\"], average=\"macro\")\n",
    "\n",
    "    svm_recall += sklearn.metrics.recall_score(testData[\"category\"], testData[\"svm_predict\"], average=\"macro\")\n",
    "    knn_recall += sklearn.metrics.recall_score(testData[\"category\"], testData[\"knn_predict\"], average=\"macro\")\n",
    "    lr_recall += sklearn.metrics.recall_score(testData[\"category\"], testData[\"lr_predict\"], average=\"macro\")\n",
    "\n",
    "    svm_f1 += sklearn.metrics.f1_score(testData[\"category\"], testData[\"svm_predict\"], average=\"macro\")\n",
    "    knn_f1 += sklearn.metrics.f1_score(testData[\"category\"], testData[\"knn_predict\"], average=\"macro\")\n",
    "    lr_f1 += sklearn.metrics.f1_score(testData[\"category\"], testData[\"lr_predict\"], average=\"macro\")\n"
   ]
  },
  {
   "cell_type": "code",
   "execution_count": 11,
   "id": "e05f4030",
   "metadata": {},
   "outputs": [
    {
     "name": "stdout",
     "output_type": "stream",
     "text": [
      "============PRECISION============\n",
      "SVM :  0.873\n",
      "KNN :  0.870\n",
      "LogReg :  0.895\n",
      "============RECALL============\n",
      "SVM :  0.854\n",
      "KNN :  0.850\n",
      "LogReg :  0.882\n",
      "============F1 SCORE============\n",
      "SVM :  0.861\n",
      "KNN :  0.858\n",
      "LogReg :  0.887\n"
     ]
    }
   ],
   "source": [
    "print(\"============PRECISION============\")\n",
    "print(\"SVM : \", str(svm_precision/5)[:5])\n",
    "print(\"KNN : \", str(knn_precision/5)[:5])\n",
    "print(\"LogReg : \", str(lr_precision/5)[:5])\n",
    "\n",
    "print(\"============RECALL============\")\n",
    "print(\"SVM : \", str(svm_recall/5)[:5])\n",
    "print(\"KNN : \", str(knn_recall/5)[:5])\n",
    "print(\"LogReg : \", str(lr_recall/5)[:5])\n",
    "\n",
    "print(\"============F1 SCORE============\")\n",
    "print(\"SVM : \", str(svm_f1/5)[:5])\n",
    "print(\"KNN : \", str(knn_f1/5)[:5])\n",
    "print(\"LogReg : \", str(lr_f1/5)[:5])"
   ]
  },
  {
   "cell_type": "code",
   "execution_count": 23,
   "id": "edaf9472",
   "metadata": {},
   "outputs": [
    {
     "data": {
      "image/png": "[encoded data removed]",
      "text/plain": [
       "<Figure size 1080x720 with 3 Axes>"
      ]
     },
     "metadata": {
      "needs_background": "light"
     },
     "output_type": "display_data"
    }
   ],
   "source": [
    "plt.figure(figsize=(15,10))\n",
    "generateConfusionMatrix(svm_cm/5, index=1, name=\"SVM\")\n",
    "generateConfusionMatrix(knn_cm/5, index=2, name=\"KNN\")\n",
    "generateConfusionMatrix(lr_cm/5, index=3, name=\"Logistic Regression\")"
   ]
  },
  {
   "cell_type": "markdown",
   "id": "f0fecf2d",
   "metadata": {},
   "source": [
    "# CBOW - SkipGram"
   ]
  },
  {
   "cell_type": "code",
   "execution_count": 12,
   "id": "43fcf174",
   "metadata": {},
   "outputs": [
    {
     "data": {
      "application/vnd.jupyter.widget-view+json": {
       "model_id": "182fdd0cb3ec4f86b85282d471a4d971",
       "version_major": 2,
       "version_minor": 0
      },
      "text/plain": [
       "IntProgress(value=0, max=20)"
      ]
     },
     "metadata": {},
     "output_type": "display_data"
    }
   ],
   "source": [
    "#SKIP GRAM\n",
    "loadingBar = IntProgress(min=0, max=5*4) # instantiate the bar\n",
    "display(loadingBar)\n",
    "\n",
    "svm_cm, knn_cm, lr_cm = -1, -1, -1\n",
    "svm_precision, knn_precision, lr_precision = 0, 0, 0\n",
    "svm_recall, knn_recall, lr_recall = 0, 0, 0\n",
    "svm_f1, knn_f1, lr_f1 = 0, 0, 0\n",
    "\n",
    "for fold in range(5):\n",
    "    #Get each train/test set\n",
    "    testData = splitDocuments[fold].reset_index()\n",
    "    trainData = documents.copy().reset_index()\n",
    "    trainData = trainData[~trainData[\"business_id\"].isin(testData[\"business_id\"])]\n",
    "    trainData[\"text\"] = trainData[\"text\"].apply(lambda x : x.split(\" \"))\n",
    "    testData[\"text\"] = testData[\"text\"].apply(lambda x : x.split(\" \"))\n",
    "\n",
    "    embedding_SKIP = gensim.models.Word2Vec(trainData[\"text\"], sg=1) \n",
    "    \n",
    "    trainVectors = [np.array([embedding_SKIP.wv[x] for x in y if x in embedding_SKIP.wv.key_to_index]).mean(axis = 0) for y in trainData[\"text\"]]\n",
    "    trainData[\"vector\"] = trainVectors\n",
    "    \n",
    "    testVectors = [np.array([embedding_SKIP.wv[x] for x in y if x in embedding_SKIP.wv.key_to_index]).mean(axis = 0) for y in testData[\"text\"]]\n",
    "    testData[\"vector\"] = testVectors\n",
    "    \n",
    "    trainData = trainData.merge(right=businesses, left_on=\"business_id\", right_on=\"business_id\")\n",
    "    testData = testData.merge(right=businesses, left_on=\"business_id\", right_on=\"business_id\")\n",
    "    loadingBar.value += 1\n",
    "    \n",
    "    #SVM\n",
    "    svm = sklearn.svm.SVC()\n",
    "    svm.fit(list(trainData[\"vector\"]), trainData[\"category\"])\n",
    "    pred = svm.predict(list(testData[\"vector\"]))\n",
    "    testData[\"svm_predict\"] = pred\n",
    "    loadingBar.value += 1\n",
    "    \n",
    "    #KNN\n",
    "    knn = sklearn.neighbors.KNeighborsClassifier(n_neighbors=3)\n",
    "    knn.fit(list(trainData[\"vector\"]), trainData[\"category\"])\n",
    "    pred = knn.predict(list(testData[\"vector\"]))\n",
    "    testData[\"knn_predict\"] = pred\n",
    "    loadingBar.value += 1\n",
    "    \n",
    "    #Logistic Regression\n",
    "    logReg = sklearn.linear_model.LogisticRegression(max_iter=300)\n",
    "    logReg.fit(list(trainData[\"vector\"]), trainData[\"category\"])\n",
    "\n",
    "    pred = logReg.predict(list(testData[\"vector\"]))\n",
    "    testData[\"lr_predict\"] = pred\n",
    "    loadingBar.value += 1\n",
    "    \n",
    "    \n",
    "    #Calculate F1, precision recall and confusion\n",
    "    #Confusion Matrixes\n",
    "    _svm_cm = sklearn.metrics.confusion_matrix(testData[\"category\"], testData[\"svm_predict\"])\n",
    "    _knn_cm = sklearn.metrics.confusion_matrix(testData[\"category\"], testData[\"knn_predict\"])\n",
    "    _lr_cm = sklearn.metrics.confusion_matrix(testData[\"category\"], testData[\"lr_predict\"])\n",
    "    \n",
    "    if fold == 0:\n",
    "        svm_cm, knn_cm, lr_cm = _svm_cm, _knn_cm, _lr_cm\n",
    "    else:\n",
    "        svm_cm += _svm_cm\n",
    "        knn_cm += _knn_cm\n",
    "        lr_cm += _lr_cm\n",
    "       \n",
    "    svm_precision += sklearn.metrics.precision_score(testData[\"category\"], testData[\"svm_predict\"], average=\"macro\")\n",
    "    knn_precision += sklearn.metrics.precision_score(testData[\"category\"], testData[\"knn_predict\"], average=\"macro\")\n",
    "    lr_precision += sklearn.metrics.precision_score(testData[\"category\"], testData[\"lr_predict\"], average=\"macro\")\n",
    "\n",
    "    svm_recall += sklearn.metrics.recall_score(testData[\"category\"], testData[\"svm_predict\"], average=\"macro\")\n",
    "    knn_recall += sklearn.metrics.recall_score(testData[\"category\"], testData[\"knn_predict\"], average=\"macro\")\n",
    "    lr_recall += sklearn.metrics.recall_score(testData[\"category\"], testData[\"lr_predict\"], average=\"macro\")\n",
    "\n",
    "    svm_f1 += sklearn.metrics.f1_score(testData[\"category\"], testData[\"svm_predict\"], average=\"macro\")\n",
    "    knn_f1 += sklearn.metrics.f1_score(testData[\"category\"], testData[\"knn_predict\"], average=\"macro\")\n",
    "    lr_f1 += sklearn.metrics.f1_score(testData[\"category\"], testData[\"lr_predict\"], average=\"macro\")\n"
   ]
  },
  {
   "cell_type": "code",
   "execution_count": 13,
   "id": "3ea996f2",
   "metadata": {},
   "outputs": [
    {
     "name": "stdout",
     "output_type": "stream",
     "text": [
      "============PRECISION============\n",
      "SVM :  0.836\n",
      "KNN :  0.895\n",
      "LogReg :  0.844\n",
      "============RECALL============\n",
      "SVM :  0.772\n",
      "KNN :  0.882\n",
      "LogReg :  0.792\n",
      "============F1 SCORE============\n",
      "SVM :  0.791\n",
      "KNN :  0.887\n",
      "LogReg :  0.809\n"
     ]
    }
   ],
   "source": [
    "print(\"============PRECISION============\")\n",
    "print(\"SVM : \", str(svm_precision/5)[:5])\n",
    "print(\"KNN : \", str(knn_precision/5)[:5])\n",
    "print(\"LogReg : \", str(lr_precision/5)[:5])\n",
    "\n",
    "print(\"============RECALL============\")\n",
    "print(\"SVM : \", str(svm_recall/5)[:5])\n",
    "print(\"KNN : \", str(knn_recall/5)[:5])\n",
    "print(\"LogReg : \", str(lr_recall/5)[:5])\n",
    "\n",
    "print(\"============F1 SCORE============\")\n",
    "print(\"SVM : \", str(svm_f1/5)[:5])\n",
    "print(\"KNN : \", str(knn_f1/5)[:5])\n",
    "print(\"LogReg : \", str(lr_f1/5)[:5])"
   ]
  },
  {
   "cell_type": "code",
   "execution_count": 26,
   "id": "99079ee4",
   "metadata": {},
   "outputs": [
    {
     "data": {
      "image/png": "[encoded data removed]",
      "text/plain": [
       "<Figure size 1080x720 with 3 Axes>"
      ]
     },
     "metadata": {
      "needs_background": "light"
     },
     "output_type": "display_data"
    }
   ],
   "source": [
    "plt.figure(figsize=(15,10))\n",
    "generateConfusionMatrix(svm_cm/5, index=1, name=\"SVM\")\n",
    "generateConfusionMatrix(knn_cm/5, index=2, name=\"KNN\")\n",
    "generateConfusionMatrix(lr_cm/5, index=3, name=\"Logistic Regression\")"
   ]
  },
  {
   "cell_type": "markdown",
   "id": "ac92816e",
   "metadata": {},
   "source": [
    "# Doc2Vec"
   ]
  },
  {
   "cell_type": "code",
   "execution_count": 14,
   "id": "b7161755",
   "metadata": {},
   "outputs": [
    {
     "data": {
      "application/vnd.jupyter.widget-view+json": {
       "model_id": "6d3b5305e7a34365a0843cdb65b9770a",
       "version_major": 2,
       "version_minor": 0
      },
      "text/plain": [
       "IntProgress(value=0, max=20)"
      ]
     },
     "metadata": {},
     "output_type": "display_data"
    }
   ],
   "source": [
    "#DOC2VEC\n",
    "loadingBar = IntProgress(min=0, max=5*4) # instantiate the bar\n",
    "display(loadingBar)\n",
    "\n",
    "svm_cm, knn_cm, lr_cm = -1, -1, -1\n",
    "svm_precision, knn_precision, lr_precision = 0, 0, 0\n",
    "svm_recall, knn_recall, lr_recall = 0, 0, 0\n",
    "svm_f1, knn_f1, lr_f1 = 0, 0, 0\n",
    "\n",
    "for fold in range(5):\n",
    "    #Get each train/test set\n",
    "    testData = splitDocuments[fold].reset_index()\n",
    "    trainData = documents.copy().reset_index()\n",
    "    trainData = trainData[~trainData[\"business_id\"].isin(testData[\"business_id\"])]\n",
    "\n",
    "    trainData = trainData.merge(right=businesses, left_on=\"business_id\", right_on=\"business_id\")\n",
    "    testData = testData.merge(right=businesses, left_on=\"business_id\", right_on=\"business_id\")\n",
    "\n",
    "    trainData[\"text\"] = trainData[\"text\"].apply(lambda x : x.split(\" \"))\n",
    "    testData[\"text\"] = testData[\"text\"].apply(lambda x : x.split(\" \"))\n",
    "\n",
    "    trainTags = [gensim.models.doc2vec.TaggedDocument(trainData[\"text\"][i], [i]) for i in range(len(trainData))]\n",
    "    embedding_DOC = gensim.models.doc2vec.Doc2Vec(vector_size=50)\n",
    "    embedding_DOC.build_vocab(trainTags)\n",
    "    embedding_DOC.train(trainTags, total_examples=embedding_DOC.corpus_count, epochs=embedding_DOC.epochs)\n",
    "    \n",
    "    trainData[\"vector\"] = trainData[\"text\"].apply(lambda x : embedding_DOC.infer_vector(x))\n",
    "    testData[\"vector\"] = testData[\"text\"].apply(lambda x : embedding_DOC.infer_vector(x))\n",
    "    loadingBar.value += 1\n",
    "    \n",
    "    #SVM\n",
    "    svm = sklearn.svm.SVC()\n",
    "    svm.fit(list(trainData[\"vector\"]), trainData[\"category\"])\n",
    "    pred = svm.predict(list(testData[\"vector\"]))\n",
    "    testData[\"svm_predict\"] = pred\n",
    "    loadingBar.value += 1\n",
    "    \n",
    "    #KNN\n",
    "    knn = sklearn.neighbors.KNeighborsClassifier(n_neighbors=3)\n",
    "    knn.fit(list(trainData[\"vector\"]), trainData[\"category\"])\n",
    "    pred = knn.predict(list(testData[\"vector\"]))\n",
    "    testData[\"knn_predict\"] = pred\n",
    "    loadingBar.value += 1\n",
    "    \n",
    "    #<!-- Last fold should get some specific words!! --!>\n",
    "    #Logistic Regression\n",
    "    logReg = sklearn.linear_model.LogisticRegression(max_iter=600)\n",
    "    logReg.fit(list(trainData[\"vector\"]), trainData[\"category\"])\n",
    "\n",
    "    pred = logReg.predict(list(testData[\"vector\"]))\n",
    "    testData[\"lr_predict\"] = pred\n",
    "    loadingBar.value += 1\n",
    "    \n",
    "    \n",
    "    #Calculate F1, precision recall and confusion\n",
    "    #Confusion Matrixes\n",
    "    _svm_cm = sklearn.metrics.confusion_matrix(testData[\"category\"], testData[\"svm_predict\"])\n",
    "    _knn_cm = sklearn.metrics.confusion_matrix(testData[\"category\"], testData[\"knn_predict\"])\n",
    "    _lr_cm = sklearn.metrics.confusion_matrix(testData[\"category\"], testData[\"lr_predict\"])\n",
    "    \n",
    "    if fold == 0:\n",
    "        svm_cm, knn_cm, lr_cm = _svm_cm, _knn_cm, _lr_cm\n",
    "    else:\n",
    "        svm_cm += _svm_cm\n",
    "        knn_cm += _knn_cm\n",
    "        lr_cm += _lr_cm\n",
    "       \n",
    "    svm_precision += sklearn.metrics.precision_score(testData[\"category\"], testData[\"svm_predict\"], average=\"macro\")\n",
    "    knn_precision += sklearn.metrics.precision_score(testData[\"category\"], testData[\"knn_predict\"], average=\"macro\")\n",
    "    lr_precision += sklearn.metrics.precision_score(testData[\"category\"], testData[\"lr_predict\"], average=\"macro\")\n",
    "\n",
    "    svm_recall += sklearn.metrics.recall_score(testData[\"category\"], testData[\"svm_predict\"], average=\"macro\")\n",
    "    knn_recall += sklearn.metrics.recall_score(testData[\"category\"], testData[\"knn_predict\"], average=\"macro\")\n",
    "    lr_recall += sklearn.metrics.recall_score(testData[\"category\"], testData[\"lr_predict\"], average=\"macro\")\n",
    "\n",
    "    svm_f1 += sklearn.metrics.f1_score(testData[\"category\"], testData[\"svm_predict\"], average=\"macro\")\n",
    "    knn_f1 += sklearn.metrics.f1_score(testData[\"category\"], testData[\"knn_predict\"], average=\"macro\")\n",
    "    lr_f1 += sklearn.metrics.f1_score(testData[\"category\"], testData[\"lr_predict\"], average=\"macro\")\n",
    "#50 sized vector~! Same results as tfidf but less memory for more time."
   ]
  },
  {
   "cell_type": "code",
   "execution_count": 15,
   "id": "4f4aa19c",
   "metadata": {},
   "outputs": [
    {
     "name": "stdout",
     "output_type": "stream",
     "text": [
      "============PRECISION============\n",
      "SVM :  0.933\n",
      "KNN :  0.919\n",
      "LogReg :  0.914\n",
      "============RECALL============\n",
      "SVM :  0.933\n",
      "KNN :  0.917\n",
      "LogReg :  0.908\n",
      "============F1 SCORE============\n",
      "SVM :  0.933\n",
      "KNN :  0.918\n",
      "LogReg :  0.911\n"
     ]
    }
   ],
   "source": [
    "print(\"============PRECISION============\")\n",
    "print(\"SVM : \", str(svm_precision/5)[:5])\n",
    "print(\"KNN : \", str(knn_precision/5)[:5])\n",
    "print(\"LogReg : \", str(lr_precision/5)[:5])\n",
    "\n",
    "print(\"============RECALL============\")\n",
    "print(\"SVM : \", str(svm_recall/5)[:5])\n",
    "print(\"KNN : \", str(knn_recall/5)[:5])\n",
    "print(\"LogReg : \", str(lr_recall/5)[:5])\n",
    "\n",
    "print(\"============F1 SCORE============\")\n",
    "print(\"SVM : \", str(svm_f1/5)[:5])\n",
    "print(\"KNN : \", str(knn_f1/5)[:5])\n",
    "print(\"LogReg : \", str(lr_f1/5)[:5])"
   ]
  },
  {
   "cell_type": "code",
   "execution_count": 77,
   "id": "ea7cab95",
   "metadata": {},
   "outputs": [
    {
     "data": {
      "image/png": "[encoded data removed]",
      "text/plain": [
       "<Figure size 1080x720 with 3 Axes>"
      ]
     },
     "metadata": {
      "needs_background": "light"
     },
     "output_type": "display_data"
    }
   ],
   "source": [
    "plt.figure(figsize=(15,10))\n",
    "generateConfusionMatrix(svm_cm/5, index=1, name=\"SVM\")\n",
    "generateConfusionMatrix(knn_cm/5, index=2, name=\"KNN\")\n",
    "generateConfusionMatrix(lr_cm/5, index=3, name=\"Logistic Regression\")"
   ]
  },
  {
   "cell_type": "markdown",
   "id": "4d5092f7",
   "metadata": {},
   "source": [
    "# Bonus: Google Embeddings"
   ]
  },
  {
   "cell_type": "code",
   "execution_count": 16,
   "id": "a01ce5c8",
   "metadata": {},
   "outputs": [
    {
     "data": {
      "application/vnd.jupyter.widget-view+json": {
       "model_id": "ed9608bc5e2a42e685940ff651b8d384",
       "version_major": 2,
       "version_minor": 0
      },
      "text/plain": [
       "IntProgress(value=0, max=30)"
      ]
     },
     "metadata": {},
     "output_type": "display_data"
    }
   ],
   "source": [
    "#BONUS - Google Vectors\n",
    "loadingBar = IntProgress(min=0, max=4*5+10) # instantiate the bar\n",
    "display(loadingBar)\n",
    "\n",
    "google_model = gensim.models.KeyedVectors.load_word2vec_format('google/GoogleNews-vectors-negative300.bin', binary=True)\n",
    "loadingBar.value += 10\n",
    "\n",
    "svm_cm, knn_cm, lr_cm = -1, -1, -1\n",
    "svm_precision, knn_precision, lr_precision = 0, 0, 0\n",
    "svm_recall, knn_recall, lr_recall = 0, 0, 0\n",
    "svm_f1, knn_f1, lr_f1 = 0, 0, 0\n",
    "\n",
    "for fold in range(5):\n",
    "    testData = splitDocuments[fold].reset_index()\n",
    "    trainData = documents.copy().reset_index()\n",
    "    trainData = trainData[~trainData[\"business_id\"].isin(testData[\"business_id\"])]\n",
    "\n",
    "    trainData = trainData.merge(right=businesses, left_on=\"business_id\", right_on=\"business_id\")\n",
    "    testData = testData.merge(right=businesses, left_on=\"business_id\", right_on=\"business_id\")\n",
    "\n",
    "    trainData[\"text\"] = trainData[\"text\"].apply(lambda x : x.split(\" \"))\n",
    "    testData[\"text\"] = testData[\"text\"].apply(lambda x : x.split(\" \"))\n",
    "\n",
    "    #Remove words that do not exist in our KeyedVectors\n",
    "    trainData[\"text\"] = trainData[\"text\"].apply(lambda x : [i for i in x if i in google_model])\n",
    "    testData[\"text\"] = testData[\"text\"].apply(lambda x : [i for i in x if i in google_model])\n",
    "    \n",
    "    #Find the average of all vectors for each word per review. Use that as our vector\n",
    "    trainData[\"vector\"] = trainData[\"text\"].apply(lambda x : sum(google_model[x])/len(x))\n",
    "    testData[\"vector\"] = testData[\"text\"].apply(lambda x : sum(google_model[x])/len(x))\n",
    "    loadingBar.value += 1\n",
    "    \n",
    "    #SVM\n",
    "    svm = sklearn.svm.SVC()\n",
    "    svm.fit(list(trainData[\"vector\"]), trainData[\"category\"])\n",
    "    pred = svm.predict(list(testData[\"vector\"]))\n",
    "    testData[\"svm_predict\"] = pred\n",
    "    loadingBar.value += 1\n",
    "    \n",
    "    #KNN\n",
    "    knn = sklearn.neighbors.KNeighborsClassifier(n_neighbors=3)\n",
    "    knn.fit(list(trainData[\"vector\"]), trainData[\"category\"])\n",
    "    pred = knn.predict(list(testData[\"vector\"]))\n",
    "    testData[\"knn_predict\"] = pred\n",
    "    loadingBar.value += 1\n",
    "    \n",
    "    #Logistic Regression\n",
    "    logReg = sklearn.linear_model.LogisticRegression(max_iter=600)\n",
    "    logReg.fit(list(trainData[\"vector\"]), trainData[\"category\"])\n",
    "\n",
    "    pred = logReg.predict(list(testData[\"vector\"]))\n",
    "    testData[\"lr_predict\"] = pred\n",
    "    loadingBar.value += 1\n",
    "    \n",
    "    \n",
    "    #Calculate F1, precision recall and confusion\n",
    "    #Confusion Matrixes\n",
    "    _svm_cm = sklearn.metrics.confusion_matrix(testData[\"category\"], testData[\"svm_predict\"])\n",
    "    _knn_cm = sklearn.metrics.confusion_matrix(testData[\"category\"], testData[\"knn_predict\"])\n",
    "    _lr_cm = sklearn.metrics.confusion_matrix(testData[\"category\"], testData[\"lr_predict\"])\n",
    "    \n",
    "    if fold == 0:\n",
    "        svm_cm, knn_cm, lr_cm = _svm_cm, _knn_cm, _lr_cm\n",
    "    else:\n",
    "        svm_cm += _svm_cm\n",
    "        knn_cm += _knn_cm\n",
    "        lr_cm += _lr_cm\n",
    "       \n",
    "    svm_precision += sklearn.metrics.precision_score(testData[\"category\"], testData[\"svm_predict\"], average=\"macro\", zero_division=0)\n",
    "    knn_precision += sklearn.metrics.precision_score(testData[\"category\"], testData[\"knn_predict\"], average=\"macro\", zero_division=0)\n",
    "    lr_precision += sklearn.metrics.precision_score(testData[\"category\"], testData[\"lr_predict\"], average=\"macro\", zero_division=0)\n",
    "\n",
    "    svm_recall += sklearn.metrics.recall_score(testData[\"category\"], testData[\"svm_predict\"], average=\"macro\")\n",
    "    knn_recall += sklearn.metrics.recall_score(testData[\"category\"], testData[\"knn_predict\"], average=\"macro\")\n",
    "    lr_recall += sklearn.metrics.recall_score(testData[\"category\"], testData[\"lr_predict\"], average=\"macro\")\n",
    "\n",
    "    svm_f1 += sklearn.metrics.f1_score(testData[\"category\"], testData[\"svm_predict\"], average=\"macro\")\n",
    "    knn_f1 += sklearn.metrics.f1_score(testData[\"category\"], testData[\"knn_predict\"], average=\"macro\")\n",
    "    lr_f1 += sklearn.metrics.f1_score(testData[\"category\"], testData[\"lr_predict\"], average=\"macro\")"
   ]
  },
  {
   "cell_type": "code",
   "execution_count": 17,
   "id": "eb97748b",
   "metadata": {},
   "outputs": [
    {
     "name": "stdout",
     "output_type": "stream",
     "text": [
      "============PRECISION============\n",
      "SVM :  0.883\n",
      "KNN :  0.894\n",
      "LogReg :  0.792\n",
      "============RECALL============\n",
      "SVM :  0.860\n",
      "KNN :  0.882\n",
      "LogReg :  0.626\n",
      "============F1 SCORE============\n",
      "SVM :  0.869\n",
      "KNN :  0.887\n",
      "LogReg :  0.649\n"
     ]
    }
   ],
   "source": [
    "print(\"============PRECISION============\")\n",
    "print(\"SVM : \", str(svm_precision/5)[:5])\n",
    "print(\"KNN : \", str(knn_precision/5)[:5])\n",
    "print(\"LogReg : \", str(lr_precision/5)[:5])\n",
    "\n",
    "print(\"============RECALL============\")\n",
    "print(\"SVM : \", str(svm_recall/5)[:5])\n",
    "print(\"KNN : \", str(knn_recall/5)[:5])\n",
    "print(\"LogReg : \", str(lr_recall/5)[:5])\n",
    "\n",
    "print(\"============F1 SCORE============\")\n",
    "print(\"SVM : \", str(svm_f1/5)[:5])\n",
    "print(\"KNN : \", str(knn_f1/5)[:5])\n",
    "print(\"LogReg : \", str(lr_f1/5)[:5])"
   ]
  },
  {
   "cell_type": "code",
   "execution_count": 83,
   "id": "4c4cf827",
   "metadata": {},
   "outputs": [
    {
     "data": {
      "image/png": "[encoded data removed]",
      "text/plain": [
       "<Figure size 1080x720 with 3 Axes>"
      ]
     },
     "metadata": {
      "needs_background": "light"
     },
     "output_type": "display_data"
    }
   ],
   "source": [
    "plt.figure(figsize=(15,10))\n",
    "generateConfusionMatrix(svm_cm/5, index=1, name=\"SVM\")\n",
    "generateConfusionMatrix(knn_cm/5, index=2, name=\"KNN\")\n",
    "generateConfusionMatrix(lr_cm/5, index=3, name=\"Logistic Regression\")"
   ]
  },
  {
   "cell_type": "markdown",
   "id": "3a8f811b",
   "metadata": {},
   "source": [
    "# Conclusions\n",
    "\n",
    "| Model    | Precision  | Time  |   Features   |\n",
    "|----------|------------|-------|--------------|\n",
    "| TF-IDF   | ~92% with SVM/LogReg  | 1-2m |  3000   |\n",
    "| CBOW     | ~89.5% with LogReg  | ~8m  |  100   |\n",
    "| SKIPGRAM | ~89% with KNN  | ~10m  |  100   |\n",
    "| DOC2VEC  | ~93% with SVM  | ~11m  |  50  |\n",
    "| GOOGLE  |  ~89.4% with KNN |  <10m |  300  |\n",
    "\n",
    "Each model of vectorization has its benefits for our problem.\n",
    "- TF-IDF is the fastest of the 5. Using 3000 features, we reach an accuracy of ~92%. This falls to 89-90% at 50 features (which is the lowest amount of features across all models.\n",
    "- CBOW an SKIPGRAM take roughly 10 minutes to complete, and provide amongst the lowest accuracies, aroun 89% with 100 features.\n",
    "- DOC2VEC gives the highest accuracy of 93-94% with only 50 features! The time required is comparable to CBOW/SKIPGRAM\n",
    "- Google Embeddings are faster (although the provided code runs at 10m without any modification), and provides a modest 89.4% accuracy. We did not focus on providing a more efficient structure for this model, but an optimized version shoul run at 6-8m.\n",
    "\n",
    "Comparably, the best vectorizer appears to be DOC2VEC, giving the highest accuracy with the least features, but losing on the time required. TF-IDF on the other hand, comes second, being very fast when compared to the rest and giving a very satisfactory result for our problem. Embeddings seem to give a more accurate approach on vectorizing our data, but the problem we are working on could be easily solved with a TF-IDF vectorizer.\n",
    "\n",
    "As for the Google Embeddings, their accuracy is higher than SKIPGRAM but lower than TF-IDF/DOC2VEC. This is to be expected, since while the Google Embeddings are heavily trained on millions of words, they are not specialized as our embeddings to the problem we are solving. Their accuracy is still impressive though."
   ]
  },
  {
   "cell_type": "code",
   "execution_count": null,
   "id": "f9470432",
   "metadata": {},
   "outputs": [],
   "source": []
  }
 ],
 "metadata": {
  "kernelspec": {
   "display_name": "Python 3 (ipykernel)",
   "language": "python",
   "name": "python3"
  },
  "language_info": {
   "codemirror_mode": {
    "name": "ipython",
    "version": 3
   },
   "file_extension": ".py",
   "mimetype": "text/x-python",
   "name": "python",
   "nbconvert_exporter": "python",
   "pygments_lexer": "ipython3",
   "version": "3.9.7"
  }
 },
 "nbformat": 4,
 "nbformat_minor": 5
}
