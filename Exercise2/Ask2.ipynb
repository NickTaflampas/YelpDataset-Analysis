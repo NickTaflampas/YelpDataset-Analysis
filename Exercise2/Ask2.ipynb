{
 "cells": [
  {
   "cell_type": "code",
   "execution_count": 1,
   "id": "3ae8d4e2",
   "metadata": {},
   "outputs": [],
   "source": [
    "import pandas as pd\n",
    "import random\n",
    "import math\n",
    "import numpy as np\n",
    "import scipy.sparse.linalg\n",
    "import matplotlib.pyplot as plt\n",
    "import sklearn.metrics\n",
    "\n",
    "#Ease of Life libraries used to simulate progression of slow algorithms\n",
    "from ipywidgets import IntProgress\n",
    "from IPython.display import display\n",
    "import time"
   ]
  },
  {
   "cell_type": "code",
   "execution_count": 2,
   "id": "13ea8521",
   "metadata": {},
   "outputs": [
    {
     "name": "stdout",
     "output_type": "stream",
     "text": [
      "<class 'pandas.core.frame.DataFrame'>\n",
      "RangeIndex: 967552 entries, 0 to 967551\n",
      "Data columns (total 3 columns):\n",
      " #   Column       Non-Null Count   Dtype  \n",
      "---  ------       --------------   -----  \n",
      " 0   user_id      967552 non-null  object \n",
      " 1   business_id  967552 non-null  object \n",
      " 2   stars        967552 non-null  float64\n",
      "dtypes: float64(1), object(2)\n",
      "memory usage: 22.1+ MB\n",
      "None\n"
     ]
    }
   ],
   "source": [
    "#Load the data as given.\n",
    "data = pd.read_csv(\"phily_users_businesses_stars.csv\", encoding=\"latin\")\n",
    "\n",
    "print(data.info()) #Info regarding the Businesses. "
   ]
  },
  {
   "cell_type": "markdown",
   "id": "7db0fbb2",
   "metadata": {},
   "source": [
    "# Step 1: Data Pruning\n",
    "Starting things off, we load our data as given, and proceed to trim it down with the following steps:\n",
    "1. We remove all Users that have not made more than 15 reviews in total.\n",
    "2. We remove all Businesses that do not have more than 15 reviews.\n",
    "3. If our data has changed since Step 1, go back to step 1. Otherwise, exit.\n",
    "\n",
    "Via this iterative process we prune our data down to 302141 pairs of 6961 Users and 4064 Businesses!"
   ]
  },
  {
   "cell_type": "code",
   "execution_count": 3,
   "id": "6a02ed4e",
   "metadata": {},
   "outputs": [
    {
     "name": "stdout",
     "output_type": "stream",
     "text": [
      "Current Data Size:  967552\n",
      "Current Data Size:  328838\n",
      "Current Data Size:  304657\n",
      "Current Data Size:  302440\n",
      "Current Data Size:  302156\n",
      "Current Data Size:  302141\n",
      "\n",
      "Total Unique Users:  6961\n",
      "Total Unique Businesses:  4064\n",
      "Total Size:  302141\n"
     ]
    }
   ],
   "source": [
    "#STEP 1\n",
    "prevLen = -1\n",
    "currentLen = len(data)\n",
    "newData = data.copy()\n",
    "\n",
    "#Iterate the copied data. If after the iteration the size is the same, stop. otherwise, repeat.\n",
    "while prevLen != currentLen:\n",
    "    print(\"Current Data Size: \", len(newData))\n",
    "    \n",
    "    #Prune Non-Active Users.\n",
    "    activeUsers = newData.groupby([\"user_id\"]).count()\n",
    "    activeUsers = activeUsers.loc[activeUsers[\"business_id\"] > 15].reset_index()\n",
    "    newData = newData.loc[data[\"user_id\"].isin(activeUsers[\"user_id\"].unique())]\n",
    "\n",
    "    #Prune Non-Active Businesses.\n",
    "    activeBusinesses = newData.groupby([\"business_id\"]).count()\n",
    "    activeBusinesses = activeBusinesses.loc[activeBusinesses[\"user_id\"] > 15].reset_index()\n",
    "    newData = newData.loc[data[\"business_id\"].isin(activeBusinesses[\"business_id\"].unique())]\n",
    "    \n",
    "    prevLen = currentLen\n",
    "    currentLen = len(newData)\n",
    "print(\"\\nTotal Unique Users: \", len(newData[\"user_id\"].unique()))\n",
    "print(\"Total Unique Businesses: \", len(newData[\"business_id\"].unique()))\n",
    "print(\"Total Size: \", len(newData))"
   ]
  },
  {
   "cell_type": "markdown",
   "id": "7efad28c",
   "metadata": {},
   "source": [
    "# Step 2: Train and Test Data\n",
    "Using Pandas' sample function we can pick out roughly 30k of our data for testing, while keeping the rest for training on the following algorithms. While this is done, for the purpose of this exercise, we ignore our sampled objects and instead use the ones given.\n",
    "\n",
    "### **Note** \n",
    "The variables defined as testData and trainData are the original samples. Further down, variables defined as testingData and trainingData are copies of the original samples. This is done to make it easier to showcase the results of several algorithms."
   ]
  },
  {
   "cell_type": "code",
   "execution_count": 4,
   "id": "a38d95aa",
   "metadata": {},
   "outputs": [
    {
     "name": "stdout",
     "output_type": "stream",
     "text": [
      "Train Data Length:  271931\n",
      "Test Data Length:  30210\n"
     ]
    }
   ],
   "source": [
    "#STEP 2\n",
    "#Test Size: 30210 (~10%)\n",
    "workData = newData.copy()\n",
    "#Our Testing Data, sampled from original data.\n",
    "testData = workData.sample(n=30210)\n",
    "#Our train data, being our original data minus the test data.\n",
    "trainData = workData.loc[workData.index.difference(testData.index)]\n",
    "\n",
    "print(\"Train Data Length: \", len(trainData))\n",
    "print(\"Test Data Length: \", len(testData))\n",
    "\n",
    "\n",
    "\n",
    "#Now to actually load them.\n",
    "trainData = pd.read_csv(\"phily_users_businesses_stars_train.csv\", encoding=\"latin\")\n",
    "testData = pd.read_csv(\"phily_users_businesses_stars_test.csv\", encoding=\"latin\")\n",
    "newData = trainData.append(testData)"
   ]
  },
  {
   "cell_type": "markdown",
   "id": "3034772f",
   "metadata": {},
   "source": [
    "# Step 3: Mean Stars Algorithm\n",
    "A rather simplistic but easy approach. We start by grouping the data by each user, and calculate their mean value accordingly. We then make this mean number our guess for each testing data sample.\n",
    "This process is done for each Business as well, for a different iteration.\n",
    "\n",
    "The final results seem suprisingly promision, with both algorithms averaging a 1.03 RMSE! By no means is this perfect, but a perfectly acceptable result for such a simple method. We notice that the Business Average algorithm has a lower RMSE when compared to the User one; which makes sense, since the average business score is the one closest to most invidisual review scores."
   ]
  },
  {
   "cell_type": "code",
   "execution_count": 11,
   "id": "c7030d44",
   "metadata": {},
   "outputs": [
    {
     "name": "stdout",
     "output_type": "stream",
     "text": [
      "RMSE of User Mean =  1.0474294959962005\n",
      "RMSE of Business Mean =  1.0055572526079652\n"
     ]
    }
   ],
   "source": [
    "#STEP 3\n",
    "#First, find the mean value of each business/user accordingly\n",
    "userMean = trainData.groupby([\"user_id\"]).mean().reset_index()\n",
    "businessMean = trainData.groupby([\"business_id\"]).mean().reset_index()\n",
    "\n",
    "#Starting with the User Mean we merge the testing Data with our user Mean by user..\n",
    "testingData = testData.copy().rename({\"stars\":\"trueStars\"}, axis=1)\n",
    "testingData = testingData.merge(userMean, how=\"left\", left_on=\"user_id\", right_on=\"user_id\").dropna()\n",
    "#And using the trueStars (actual value) and the stars (guess value/mean) we find the RMSE\n",
    "RMSE = math.sqrt(sum((testingData[\"trueStars\"]-testingData[\"stars\"])**2)/len(testingData))\n",
    "print(\"RMSE of User Mean = \", RMSE)\n",
    "\n",
    "#The same procedure is done with business mean\n",
    "testingData = testData.copy().rename({\"stars\":\"trueStars\"}, axis=1)\n",
    "testingData = testingData.merge(businessMean, how=\"left\", left_on=\"business_id\", right_on=\"business_id\").dropna()\n",
    "\n",
    "RMSE = math.sqrt(sum((testingData[\"trueStars\"]-testingData[\"stars\"])**2)/len(testingData))\n",
    "print(\"RMSE of Business Mean = \", RMSE)"
   ]
  },
  {
   "cell_type": "markdown",
   "id": "df8bce37",
   "metadata": {},
   "source": [
    "# Step 4: Singular Value Decomposition - k-Rank\n",
    "SVD breaks down our matrix into more major components, which in return can be shortened to keep only important data in our memory. This way, the algorithm is faster, more memory efficient but of course greedier.\n",
    "- First, we map each UserID and BusinessID to a corresponding number. We keep this dictionary for later uses and overall steps.\n",
    "- We drop all duplicates before constructing the Sparse Matrix R.\n",
    "\n",
    "**Note: This is done automatically by the scipy.sparse.csr_matrix function, but we chose to do it beforehand regardless.**\n",
    "- Using the scipy's SVDS function, we break the Sparse Matrix R into our U and VH matrix, as well as the S vector.\n",
    "- Afterwards, for K = [1,100] we calculate for each Test Sample the estimate, using the given formula. K represents the rank of used elements from each matrix. The higher the K, the more information is kept and thus the better the result should be, in exchange for computational power.\n"
   ]
  },
  {
   "cell_type": "code",
   "execution_count": 8,
   "id": "029e6436",
   "metadata": {},
   "outputs": [],
   "source": [
    "#Step 4:\n",
    "trainingData = trainData.reset_index().drop([\"index\"],axis=1)\n",
    "\n",
    "#Find all Unique appearances of Users and Businesses\n",
    "uniqueUsers = newData[\"user_id\"].unique()\n",
    "uniqueBusinesses = newData[\"business_id\"].unique()\n",
    "#Map them\n",
    "uniqueUsers = {uniqueUsers[i]:i for i in range(len(uniqueUsers))}\n",
    "uniqueBusinesses = {uniqueBusinesses[i]:i for i in range(len(uniqueBusinesses))}\n",
    "#Use generated maps to convert to their IDs\n",
    "trainingData[\"user_id\"] = trainingData[\"user_id\"].apply(lambda x : uniqueUsers[x])\n",
    "trainingData[\"business_id\"] = trainingData[\"business_id\"].apply(lambda x : uniqueBusinesses[x])\n",
    "#For the purposes of Sparse Matrix, we drop all duplicate user_id,business_id pairs\n",
    "trainingData = trainingData.drop_duplicates(subset=[\"user_id\",\"business_id\"])\n",
    "\n",
    "\n",
    "#Same proceure for our test data\n",
    "testingData = testData.copy()\n",
    "testingData[\"user_id\"] = testingData[\"user_id\"].apply(lambda x : uniqueUsers[x])\n",
    "testingData[\"business_id\"] = testingData[\"business_id\"].apply(lambda x : uniqueBusinesses[x])\n",
    "testingData = testingData.drop_duplicates(subset=[\"user_id\",\"business_id\"])\n",
    "\n",
    "R = scipy.sparse.csr_matrix((trainingData[\"stars\"], (trainingData[\"user_id\"], trainingData[\"business_id\"])),\n",
    "                                     shape=(len(uniqueUsers), len(uniqueBusinesses)))\n",
    "\n",
    "\n",
    "u, s, vh = scipy.sparse.linalg.svds(R, k=100)\n",
    "\n"
   ]
  },
  {
   "cell_type": "markdown",
   "id": "eb981c8e",
   "metadata": {},
   "source": [
    "# Step 4: Results\n",
    "As expected, we see a great decrease as the K value increases. We see the lowest value at K=100.\n",
    "Should be noted that the overall RMSE is very high, making this algorithm worse the the User/Business Average one. The complexity is also pretty high due to the cost of matrix multiplication. Overall, the results are not satisfactory."
   ]
  },
  {
   "cell_type": "code",
   "execution_count": 14,
   "id": "c5dec641",
   "metadata": {},
   "outputs": [
    {
     "data": {
      "application/vnd.jupyter.widget-view+json": {
       "model_id": "eacf3ed6a9994afbb20d0974e63cd620",
       "version_major": 2,
       "version_minor": 0
      },
      "text/plain": [
       "IntProgress(value=0)"
      ]
     },
     "metadata": {},
     "output_type": "display_data"
    },
    {
     "data": {
      "image/png": "[encoded data removed]",
      "text/plain": [
       "<Figure size 432x288 with 1 Axes>"
      ]
     },
     "metadata": {
      "needs_background": "light"
     },
     "output_type": "display_data"
    }
   ],
   "source": [
    "loadingBar = IntProgress(min=0, max=100) # instantiate the bar\n",
    "display(loadingBar) # display the bar\n",
    "\n",
    "errors = []\n",
    "roundTestData = testingData.copy()\n",
    "for k in range(1,101):\n",
    "    \n",
    "    roundTestData[\"guess\"] = roundTestData.apply(lambda x : u[int(x.user_id),:][:k]@\n",
    "                                                            np.diag(s[:k])@\n",
    "                                                            vh[:,int(x.business_id)].T[:k] , axis=1)\n",
    "    \n",
    "    roundTestData[\"guess\"] = roundTestData[\"guess\"].apply(lambda x: 5 if x > 5 else x)\n",
    "    roundTestData[\"guess\"] = roundTestData[\"guess\"].apply(lambda x: 0 if x < 0 else x)\n",
    "    \n",
    "    \n",
    "    RMSE = sklearn.metrics.mean_squared_error(roundTestData[\"stars\"], roundTestData[\"guess\"], squared=False)\n",
    "    errors.append(RMSE)\n",
    "    loadingBar.value += 1\n",
    "null=plt.plot([k for k in range(1,101)], errors)"
   ]
  },
  {
   "cell_type": "markdown",
   "id": "c6c2b9bf",
   "metadata": {},
   "source": [
    "# Step 5,6: Collaborative Filtering\n",
    "A similar process of preparing the needed data is executed on the code bellow, as we once more map our IDs to numbers and transform their new values (Stars - Average Stars) into a new sparse matrix.\n",
    "\n",
    "**Note: Due to the difficulty of those steps, several attempts were made, yielding different results. We 2 of the best attempts of those algorithms. While the results are similar, the code and method are different, thus resulting in different execution times.**"
   ]
  },
  {
   "cell_type": "code",
   "execution_count": 87,
   "id": "7c6d06f5",
   "metadata": {},
   "outputs": [],
   "source": [
    "#Prepare Sparse Matrix\n",
    "trainingData = trainData.reset_index().drop([\"index\"],axis=1)\n",
    "#Find all Unique appearances of Users and Businesses\n",
    "uniqueUsers = trainingData[\"user_id\"].unique()\n",
    "uniqueBusinesses = trainingData[\"business_id\"].unique()\n",
    "#Map them\n",
    "uniqueUsers = {uniqueUsers[i]:i for i in range(len(uniqueUsers))}\n",
    "uniqueBusinesses = {uniqueBusinesses[i]:i for i in range(len(uniqueBusinesses))}\n",
    "#Use generated maps to convert to their IDs\n",
    "trainingData[\"user_id\"] = trainingData[\"user_id\"].apply(lambda x : uniqueUsers[x])\n",
    "trainingData[\"business_id\"] = trainingData[\"business_id\"].apply(lambda x : uniqueBusinesses[x])\n",
    "\n",
    "#Prepare Data Values\n",
    "userMean = trainData.groupby([\"user_id\"]).mean().reset_index()\n",
    "userMean[\"user_id\"] = userMean[\"user_id\"].apply(lambda x : uniqueUsers[x])\n",
    "trainingData = trainingData.merge(userMean.rename({\"stars\":\"meanStars\"}, axis=1),\n",
    "                                   how=\"left\", left_on=\"user_id\", right_on=\"user_id\")\n",
    "trainingData[\"value\"] = trainingData[\"stars\"] - trainingData[\"meanStars\"]\n",
    "\n",
    "\n",
    "R = scipy.sparse.csr_matrix((trainingData[\"value\"], (trainingData[\"user_id\"], trainingData[\"business_id\"])),\n",
    "                                     shape=(len(uniqueUsers), len(uniqueBusinesses)))\n",
    "\n",
    "\n",
    "#Same Procedure for our test data\n",
    "testingData = testData.copy()\n",
    "testingData[\"user_id\"] = testingData[\"user_id\"].apply(lambda x : uniqueUsers[x])\n",
    "testingData[\"business_id\"] = testingData[\"business_id\"].apply(lambda x : uniqueBusinesses[x])"
   ]
  },
  {
   "cell_type": "markdown",
   "id": "b0235ce5",
   "metadata": {},
   "source": [
    "# Step 5: Collaborative Filtering - Users\n",
    "After preparing the sparse matrix R, we calculate the similarities between ALL USERS. This is done using the pairwise_cosine_similarity function. This cuts a lot of the execution time, so that the algorithm runs at greater efficiency. Having that calculated, we apply our new function to all pairs within our TestinData:\n",
    "- We check if the User's Sparse Matrix Row is all zeros. If so, return the mean value for all values of K.\n",
    "- If not, we find Users that have reviewd the current business. This is done by finding all Users with a nonzero value in the sparse matrix, and saving them as \"businessUsers'.\n",
    "- We then use them to get their similarities with our original user (uid).\n",
    "- Having all the needed data, we then calculate the estimate using the given formula for all values of K. If there are less than K users, we use them all.\n",
    "- We clip all predictions within the values of 0 and 5.\n",
    "\n",
    "# Conclusion\n",
    "The overall complexity is rather high. The algorithm manages to find all needed estimates in roughly 1 minute per K value (total time ~10-12 minutes!). The results however are very close to that of our currently best algorithm (Business Average). We see the overall RMSE reach its minimum value for K=15 with roughly 1.042 RMSE. The error lowers up to K=25 and afterwards ascends slowly. We imagine this to be due to the amount of negative similarities. When increasing the K value to greater values, we start to include Users that have negative similarity, and thus affect the estimation in the wrong direction, giving worse results.\n"
   ]
  },
  {
   "cell_type": "code",
   "execution_count": 28,
   "id": "c6857241",
   "metadata": {},
   "outputs": [
    {
     "data": {
      "application/vnd.jupyter.widget-view+json": {
       "model_id": "bdc4e016a881475cae89e9f600841760",
       "version_major": 2,
       "version_minor": 0
      },
      "text/plain": [
       "IntProgress(value=0, max=30214)"
      ]
     },
     "metadata": {},
     "output_type": "display_data"
    },
    {
     "name": "stdout",
     "output_type": "stream",
     "text": [
      "Best K= 15  with RMSE= 1.042\n"
     ]
    },
    {
     "data": {
      "image/png": "[encoded data removed]",
      "text/plain": [
       "<Figure size 432x288 with 1 Axes>"
      ]
     },
     "metadata": {
      "needs_background": "light"
     },
     "output_type": "display_data"
    }
   ],
   "source": [
    "#Step 5\n",
    "loadingBar = IntProgress(min=0, max=len(testingData)) \n",
    "display(loadingBar) \n",
    "\n",
    "def findUCFScore(uid, bid):\n",
    "    loadingBar.value += 1\n",
    "        \n",
    "    if not np.any(R[uid].toarray()[0]):\n",
    "        avg = userMean.loc[userMean[\"user_id\"] == uid].values[0][1]\n",
    "        return np.array([avg]*13)\n",
    "    \n",
    "    businessUsers = R[:,bid].nonzero()[0]\n",
    "\n",
    "    similarities = pd.DataFrame(similarityMatrix[uid].take(businessUsers)).reset_index().rename({\"index\":\"user_id\",\n",
    "                                                                                                 0:\"similarity\"}, axis=1)\n",
    "    similarUsers = similarities.sort_values([\"similarity\"], ascending=False)\n",
    "\n",
    "    scores = []\n",
    "    score = 0\n",
    "    \n",
    "    \n",
    "    for k in [1,2,3,5,8,10,12,15,20,25,30,40,50]:\n",
    "        score = userMean.loc[userMean[\"user_id\"] == uid].to_numpy()[0][1]\n",
    "        \n",
    "        mostSimilarUsers = similarUsers\n",
    "        if len(similarUsers) > k:\n",
    "            mostSimilarUsers = mostSimilarUsers[:k]\n",
    "        \n",
    "        #Similar Users can be 0.\n",
    "        divided = mostSimilarUsers[\"similarity\"]*np.take(R[:,bid].toarray(), mostSimilarUsers.index, axis=0).flatten()\n",
    "\n",
    "        divided = sum(divided)\n",
    "        divisor = sum(mostSimilarUsers[\"similarity\"])\n",
    "        \n",
    "        #In case the K most similar users are exactly the same as the original user.\n",
    "        if divisor != 0:\n",
    "            score += divided/divisor\n",
    "        \n",
    "        score = 5 if score > 5 else score\n",
    "        score = 0 if score < 0 else score     \n",
    "        scores.append(score)\n",
    "    return scores\n",
    "\n",
    "similarityMatrix = sklearn.metrics.pairwise.cosine_similarity(R)\n",
    "testingData[\"k\"] = testingData.apply(lambda x : findUCFScore(int(x.user_id), int(x.business_id)), axis=1)\n",
    "\n",
    "K = [1,2,3,5,8,10,12,15,20,25,30,40,50]\n",
    "Y = []\n",
    "for i in range(13):\n",
    "    scoreData = testingData.copy()\n",
    "    scoreData[\"score\"] = scoreData.apply(lambda x :(x.stars-x.k[i])**2, axis=1)\n",
    "    \n",
    "    Y.append(math.sqrt(sum(scoreData[\"score\"])/len(scoreData)))\n",
    "    \n",
    "null = plt.plot(K, Y)\n",
    "print(\"Best K=\", K[np.argmin(Y)], \" with RMSE=\", str(min(Y))[:5])"
   ]
  },
  {
   "cell_type": "markdown",
   "id": "d955d3db",
   "metadata": {},
   "source": [
    "# Step 6: Collaborative Filtering - Items\n",
    "The process is the same as Step 5 but using the businesses as our means of comparison. We calculate the Transposed Sparse Matrix of R (RT), which we use to fetch Businesses more easily, as well as to calculate the similarity matrix between them.\n",
    "\n",
    "# Conclusion\n",
    "The complexity follows the same path as the UCF algorithm, running for roughly 10-12m. As for the overall results, they are similar as UCF but slightly worse. For K=10 we get the best RMSE for 1.051. Afterwards however, the function escalates very fast, even surpassing the initial RMSE for K=1! This concludes that overall the ICF algorithm is not ideal."
   ]
  },
  {
   "cell_type": "code",
   "execution_count": 29,
   "id": "45316409",
   "metadata": {},
   "outputs": [
    {
     "data": {
      "application/vnd.jupyter.widget-view+json": {
       "model_id": "f7804b92c43b42b49b17eacd195fe50a",
       "version_major": 2,
       "version_minor": 0
      },
      "text/plain": [
       "IntProgress(value=0, max=30214)"
      ]
     },
     "metadata": {},
     "output_type": "display_data"
    },
    {
     "name": "stdout",
     "output_type": "stream",
     "text": [
      "Best K= 12  with RMSE= 1.052\n"
     ]
    },
    {
     "data": {
      "image/png": "[encoded data removed]",
      "text/plain": [
       "<Figure size 432x288 with 1 Axes>"
      ]
     },
     "metadata": {
      "needs_background": "light"
     },
     "output_type": "display_data"
    }
   ],
   "source": [
    "#Step 6\n",
    "loadingBar = IntProgress(min=0, max=len(testingData)) \n",
    "display(loadingBar) \n",
    "\n",
    "def findUCFScore(uid, bid):\n",
    "    global RT\n",
    "\n",
    "    loadingBar.value += 1\n",
    "        \n",
    "    if not np.any(RT[bid].toarray()[0]):\n",
    "        return [userMean.loc[userMean[\"user_id\"] == uid].to_numpy()[0][1]]*13\n",
    "    \n",
    "    usersBusinesses = R[uid,:].nonzero()[1]\n",
    "\n",
    "    similarities = pd.DataFrame(similarityMatrix[bid].take(usersBusinesses)).reset_index().rename({\"index\":\"user_id\",\n",
    "                                                                                                 0:\"similarity\"}, axis=1)\n",
    "    similarBusinesses = similarities.sort_values([\"similarity\"], ascending=False)\n",
    "    \n",
    "    scores = []\n",
    "    score = 0\n",
    "    \n",
    "    \n",
    "    for k in [1,2,3,5,8,10,12,15,20,25,30,40,50]:\n",
    "        score = userMean.loc[userMean[\"user_id\"] == uid].to_numpy()[0][1]\n",
    "        \n",
    "        mostSimilarBusinesses = similarBusinesses\n",
    "        if len(similarBusinesses) > k:\n",
    "            mostSimilarBusinesses = similarBusinesses[:k]\n",
    "\n",
    "        #Similar Users can be 0.\n",
    "        divided = mostSimilarBusinesses[\"similarity\"]*np.take(R[uid].toarray()[0], mostSimilarBusinesses.index, axis=0).flatten()\n",
    "        divided = sum(divided)\n",
    "        divisor = sum(mostSimilarBusinesses[\"similarity\"])\n",
    "        \n",
    "        #In case the K most similar users are exactly the same as the original user.\n",
    "        if divisor != 0:\n",
    "            score += divided/divisor\n",
    "        \n",
    "        score = 5 if score > 5 else score\n",
    "        score = 0 if score < 0 else score     \n",
    "        scores.append(score)\n",
    "    return scores\n",
    "\n",
    "#Transpose of R to get Business Similarity\n",
    "RT = R.T\n",
    "similarityMatrix = sklearn.metrics.pairwise.cosine_similarity(RT)\n",
    "testingData[\"k\"] = testingData.apply(lambda x : findUCFScore(int(x.user_id), int(x.business_id)), axis=1)\n",
    "\n",
    "K = [1,2,3,5,8,10,12,15,20,25,30,40,50]\n",
    "Y = []\n",
    "for i in range(13):\n",
    "    scoreData = testingData.copy()\n",
    "    scoreData[\"score\"] = scoreData.apply(lambda x :(x.stars-x.k[i])**2, axis=1)\n",
    "    \n",
    "    Y.append(math.sqrt(sum(scoreData[\"score\"])/len(scoreData)))\n",
    "    \n",
    "null = plt.plot(K, Y)\n",
    "print(\"Best K=\", K[np.argmin(Y)], \" with RMSE=\", str(min(Y))[:5])"
   ]
  },
  {
   "cell_type": "markdown",
   "id": "d85fd6bb",
   "metadata": {},
   "source": [
    "# UCF - A Second Approach\n",
    "With the time complexity reaching an all-time high, a different approach was implemented. By calculating the needed values before running through the testing data, we manage to get a total time of roughly 7 minutes of execution. This include the initial set up that follows.\n",
    "\n",
    "1. For each user in our test data we calculate the similarity of each user in the training data.\n",
    "2. We then find all users that reviewed each business from our training data.\n",
    "3. We cross-reference the two datasets to find the most similar users that reviewed each business for each pair in our test data.\n",
    "\n",
    "## Conclusion\n",
    "Having all that calculated (1m of execution time) the iterative process is done way faster (5-6m). As for the result, while the function follows a similar pattern, the result improves with RMSE of 1.024 for K=10."
   ]
  },
  {
   "cell_type": "code",
   "execution_count": 88,
   "id": "2f7d7d7d",
   "metadata": {},
   "outputs": [
    {
     "data": {
      "application/vnd.jupyter.widget-view+json": {
       "model_id": "3037b7949d6348109c116bdc95d16a83",
       "version_major": 2,
       "version_minor": 0
      },
      "text/plain": [
       "IntProgress(value=0, max=6142)"
      ]
     },
     "metadata": {},
     "output_type": "display_data"
    }
   ],
   "source": [
    "loadingBar = IntProgress(min=0, max=(len(testingData)/5)+100) \n",
    "display(loadingBar) \n",
    "\n",
    "index = -1\n",
    "def getUsefulUsers(uid, bid):\n",
    "    global index\n",
    "    index += 1\n",
    "    \n",
    "    if index % 5 == 0:\n",
    "        loadingBar.value += 1\n",
    "    \n",
    "    mostSimilarUsers = similarUsers[index]\n",
    "    reviewers = businessUsers[bid]\n",
    "    return mostSimilarUsers[ np.in1d(mostSimilarUsers, reviewers)]\n",
    "\n",
    "similarityMatrix = sklearn.metrics.pairwise.cosine_similarity(R)\n",
    "loadingBar.value += 50\n",
    "similarUsers = testingData[\"user_id\"].apply(lambda x : np.flip(similarityMatrix[x].argsort()))\n",
    "loadingBar.value += 50\n",
    "businessUsers = trainingData.groupby([\"business_id\"])[\"user_id\"].apply(list)\n",
    "\n",
    "uniqueTestPairs = testingData.copy()\n",
    "uniqueTestPairs[\"usefulUsers\"] = uniqueTestPairs.apply(lambda x : getUsefulUsers(x.user_id, x.business_id), axis=1)\n"
   ]
  },
  {
   "cell_type": "code",
   "execution_count": 89,
   "id": "9cd1e50c",
   "metadata": {},
   "outputs": [
    {
     "data": {
      "application/vnd.jupyter.widget-view+json": {
       "model_id": "60caf1abb4004de5bdfd3bd42cfb3b63",
       "version_major": 2,
       "version_minor": 0
      },
      "text/plain": [
       "IntProgress(value=0, max=30214)"
      ]
     },
     "metadata": {},
     "output_type": "display_data"
    },
    {
     "name": "stdout",
     "output_type": "stream",
     "text": [
      "Best K= 10  with RMSE= 1.024\n"
     ]
    },
    {
     "data": {
      "image/png": "[encoded data removed]",
      "text/plain": [
       "<Figure size 432x288 with 1 Axes>"
      ]
     },
     "metadata": {
      "needs_background": "light"
     },
     "output_type": "display_data"
    }
   ],
   "source": [
    "K = [1,2,3,5,8,10,12,15,20,25,30,40,50]\n",
    "loadingBar = IntProgress(min=0, max=len(testingData)) \n",
    "display(loadingBar) \n",
    "\n",
    "index = -1\n",
    "kScores = []\n",
    "for uid, bid in zip(testingData[\"user_id\"], testingData[\"business_id\"]):\n",
    "    \n",
    "    scores = []\n",
    "    \n",
    "    index += 1\n",
    "    loadingBar.value += 1\n",
    "    \n",
    "    r = userMean.loc[userMean[\"user_id\"] == uid][\"stars\"].values[0]\n",
    "\n",
    "    usefulUsers = uniqueTestPairs.iloc[index][\"usefulUsers\"]\n",
    "        \n",
    "    for k in K:\n",
    "        currentSample = usefulUsers\n",
    "        if k <= len(usefulUsers):\n",
    "            currentSample = usefulUsers[:k]\n",
    "\n",
    "        similarityVector = similarityMatrix[uid, currentSample]\n",
    "\n",
    "        divisor = sum(similarityVector)\n",
    "\n",
    "        if divisor == 0:\n",
    "            scores.append(r)\n",
    "            continue\n",
    "\n",
    "        divided = sum([similarityVector[i]*R[currentSample[i], bid] for i in range(len(currentSample))])\n",
    "        score = (divided/divisor)+r\n",
    "        if score > 5:\n",
    "            score = 5\n",
    "        elif score < 0:\n",
    "            score = 0 \n",
    "        scores.append(score)\n",
    "    kScores.append(scores)\n",
    "testingData[\"k\"] = kScores\n",
    "\n",
    "Y = []\n",
    "for i in range(len(K)):\n",
    "    scoreData = testingData.copy()\n",
    "    scoreData[\"score\"] = scoreData.apply(lambda x :(x.stars-x.k[i])**2, axis=1)\n",
    "    \n",
    "    Y.append(math.sqrt(sum(scoreData[\"score\"])/len(scoreData)))\n",
    "    \n",
    "null = plt.plot(K, Y)\n",
    "print(\"Best K=\", K[np.argmin(Y)], \" with RMSE=\", str(min(Y))[:5])"
   ]
  },
  {
   "cell_type": "markdown",
   "id": "c43c5726",
   "metadata": {},
   "source": [
    "# ICF - Second Approach\n",
    "Similarly to UCF, the algorithm is improved, with the aproximate time being roughly 6-7 minutes. The function has not improved however, witht he ascent being more rapid and reaching an all time peak for all attempts. The best score is 1.092 for K=8, which is not an improvement when compared to the original attempt."
   ]
  },
  {
   "cell_type": "code",
   "execution_count": 82,
   "id": "e2a46eca",
   "metadata": {},
   "outputs": [
    {
     "data": {
      "application/vnd.jupyter.widget-view+json": {
       "model_id": "120fcc355dd544528996c70f50d7d282",
       "version_major": 2,
       "version_minor": 0
      },
      "text/plain": [
       "IntProgress(value=0, max=6142)"
      ]
     },
     "metadata": {},
     "output_type": "display_data"
    }
   ],
   "source": [
    "loadingBar = IntProgress(min=0, max=(len(testingData)/5)+100) \n",
    "display(loadingBar) \n",
    "\n",
    "index = -1\n",
    "def getUsefulUsers(uid, bid):\n",
    "    global index\n",
    "    global similarityMatrix\n",
    "    global similarBusinesses\n",
    "    global usersBusinesses\n",
    "    \n",
    "    index += 1\n",
    "    if index % 5 == 0:\n",
    "        loadingBar.value += 1\n",
    "    \n",
    "    mostSimilarBusinesses = similarBusinesses[index]\n",
    "    reviewed = usersBusinesses[uid]\n",
    "    return mostSimilarBusinesses[ np.in1d(mostSimilarBusinesses, reviewed)]\n",
    "\n",
    "RT = R.T\n",
    "similarityMatrix = sklearn.metrics.pairwise.cosine_similarity(RT)\n",
    "loadingBar.value += 50\n",
    "usersBusinesses = trainingData.groupby([\"user_id\"])[\"business_id\"].apply(list)\n",
    "similarBusinesses = testingData[\"business_id\"].apply(lambda x : np.flip(similarityMatrix[x].argsort()))\n",
    "\n",
    "uniqueTestPairs = testingData.copy()\n",
    "uniqueTestPairs[\"usefulBusinesses\"] = uniqueTestPairs.apply(lambda x : getUsefulUsers(x.user_id, x.business_id), axis=1)"
   ]
  },
  {
   "cell_type": "code",
   "execution_count": 83,
   "id": "7775c154",
   "metadata": {},
   "outputs": [
    {
     "data": {
      "application/vnd.jupyter.widget-view+json": {
       "model_id": "7e72d5cc751e42ce92bdeac33363210c",
       "version_major": 2,
       "version_minor": 0
      },
      "text/plain": [
       "IntProgress(value=0, max=30214)"
      ]
     },
     "metadata": {},
     "output_type": "display_data"
    },
    {
     "name": "stdout",
     "output_type": "stream",
     "text": [
      "Best K= 8  with RMSE= 1.092\n"
     ]
    },
    {
     "data": {
      "image/png": "[encoded data removed]",
      "text/plain": [
       "<Figure size 432x288 with 1 Axes>"
      ]
     },
     "metadata": {
      "needs_background": "light"
     },
     "output_type": "display_data"
    }
   ],
   "source": [
    "K = [1,2,3,5,8,10,12,15,20,25,30,40,50]\n",
    "loadingBar = IntProgress(min=0, max=len(testingData)) \n",
    "display(loadingBar) \n",
    "\n",
    "index = -1\n",
    "kScores = []\n",
    "for uid, bid in zip(testingData[\"user_id\"], testingData[\"business_id\"]):\n",
    "    \n",
    "    scores = []\n",
    "    \n",
    "    index += 1\n",
    "    loadingBar.value += 1\n",
    "    \n",
    "    r = userMean.loc[userMean[\"user_id\"] == uid][\"stars\"].values[0]\n",
    "\n",
    "    usefulBusinesses = uniqueTestPairs.iloc[index][\"usefulBusinesses\"]\n",
    "        \n",
    "    for k in K:\n",
    "        currentSample = usefulBusinesses\n",
    "        if k <= len(usefulUsers):\n",
    "            currentSample = usefulBusinesses[:k]\n",
    "\n",
    "        similarityVector = similarityMatrix[bid, currentSample]\n",
    "\n",
    "        divisor = sum(similarityVector)\n",
    "\n",
    "        if divisor == 0:\n",
    "            scores.append(r)\n",
    "            continue\n",
    "\n",
    "        divided = sum([similarityVector[i]*R[uid, currentSample[i]] for i in range(len(currentSample))])\n",
    "        score = (divided/divisor)+r\n",
    "        if score > 5:\n",
    "            score = 5\n",
    "        elif score < 0:\n",
    "            score = 0 \n",
    "        scores.append(score)\n",
    "    kScores.append(scores)\n",
    "testingData[\"k\"] = kScores\n",
    "\n",
    "Y = []\n",
    "for i in range(len(K)):\n",
    "    scoreData = testingData.copy()\n",
    "    scoreData[\"score\"] = scoreData.apply(lambda x :(x.stars-x.k[i])**2, axis=1)\n",
    "    \n",
    "    Y.append(math.sqrt(sum(scoreData[\"score\"])/len(scoreData)))\n",
    "    \n",
    "null = plt.plot(K, Y)\n",
    "print(\"Best K=\", K[np.argmin(Y)], \" with RMSE=\", str(min(Y))[:5])"
   ]
  },
  {
   "cell_type": "markdown",
   "id": "e1903eef",
   "metadata": {},
   "source": [
    "# Step 7: Final Conclusions\n",
    "\n",
    "Having tested several algorithms to approximate the star values of our testing data, we have concluded to the following:\n",
    "\n",
    "| <div style=\"width:300px\">Algorithm</div>     | <div style=\"width:300px\">RMSE</div> | <div style=\"width:300px\">Execution Time</div>     |\n",
    "| :---:       |    :----:   |         :---: |\n",
    "| Business Average   | 1.005        | <1s      |\n",
    "| UCF   | 1.024       | ~6m      |\n",
    "| User Average      | 1.047       | <1s   |\n",
    "| ICF   | 1.052        | ~10m      |\n",
    "| SVD   | 3.7        | ~1m      |\n",
    "\n",
    "Overall, for the given data, Business Average provides the overall best RMSE **and** execution speed. Close seconds are UCF and ICF, as well as the UA algorithms. SVD on the other hand has the worst score of all 5 for values of K up to 100. Having those in mind we can conclude:\n",
    "\n",
    "- BA and UA are the fastest. Their scores are ideal and despite their small complexity, they surpass all algorithms that we tried for the current dataset.\n",
    "- UCF and ICF provide very good results, but their complexity renders them slow. Having tried 2 different approaches on both algorithms, we notice a strange randomness on their results. While the process should be identical, their results are not. On a previous attempt, we recreated manually the sparse matrix R to test a theory, and the results improved slightly. With that in mind, we theorize that the Scipy.CSR_Matrix could have a randomness factor of choosing that we did not account for. As a final note, we conclude that for higher K values, the score increases drastically, proving that when adding many users/businesses with low and/or negative similarity, the overall accuracy decreases.\n",
    "- SVD proves the worse of all results, and while the time complexity is relatively low, the score does not prove fruitful. A note to be made is that the slope of its RMSE seems to drop very quickly for high K values, therefore it's possible for  K > 100 to improve the score."
   ]
  },
  {
   "cell_type": "code",
   "execution_count": null,
   "id": "b9ab71c3",
   "metadata": {},
   "outputs": [],
   "source": []
  }
 ],
 "metadata": {
  "kernelspec": {
   "display_name": "Python 3 (ipykernel)",
   "language": "python",
   "name": "python3"
  },
  "language_info": {
   "codemirror_mode": {
    "name": "ipython",
    "version": 3
   },
   "file_extension": ".py",
   "mimetype": "text/x-python",
   "name": "python",
   "nbconvert_exporter": "python",
   "pygments_lexer": "ipython3",
   "version": "3.9.7"
  }
 },
 "nbformat": 4,
 "nbformat_minor": 5
}
