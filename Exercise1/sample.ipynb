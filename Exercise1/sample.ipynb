{
 "cells": [
  {
   "cell_type": "code",
   "execution_count": 1,
   "id": "413d8f35-a51b-49d0-a329-52c9ef919333",
   "metadata": {},
   "outputs": [],
   "source": [
    "#TALFAMPAS NIKOLAOS 4500\n",
    "import random\n",
    "\n",
    "K = 5\n",
    "FILE = \"input.txt\""
   ]
  },
  {
   "cell_type": "code",
   "execution_count": 2,
   "id": "e58eec62-1cf8-42a4-b762-c34dd0000cd3",
   "metadata": {},
   "outputs": [
    {
     "name": "stdout",
     "output_type": "stream",
     "text": [
      "['Juancho Hernangomez', 'Thaddeus Young', 'Ty Lawson', 'Reeves Nelson', 'Omri Casspi']\n"
     ]
    }
   ],
   "source": [
    "def sample():  \n",
    "    stream = open(FILE) #Stream of names\n",
    "    i = -1 #Counter of current element. Starts at 0 upon opening the file\n",
    "    R = [] #Reservoir\n",
    "    for item in stream:\n",
    "        i+=1 #After reading an item, increase the counter\n",
    "        if i < K: #The first K elements, are just added to the Reservoir\n",
    "            R.append(item)\n",
    "            continue\n",
    "        \n",
    "        randomIndex = random.randint(0,i) #After the Kth element, pick a number between 0 and i\n",
    "        if randomIndex < K: #If that number is less than K, change that item from the reservoir.\n",
    "            R[randomIndex] = item.strip()\n",
    "        #According to the proof written on the PDF, each item has k/N to be in the reservoir at the end.\n",
    "            \n",
    "    return R\n",
    "        \n",
    "print(sample())   \n"
   ]
  },
  {
   "cell_type": "code",
   "execution_count": null,
   "id": "599dfe84",
   "metadata": {},
   "outputs": [],
   "source": []
  }
 ],
 "metadata": {
  "kernelspec": {
   "display_name": "Python 3 (ipykernel)",
   "language": "python",
   "name": "python3"
  },
  "language_info": {
   "codemirror_mode": {
    "name": "ipython",
    "version": 3
   },
   "file_extension": ".py",
   "mimetype": "text/x-python",
   "name": "python",
   "nbconvert_exporter": "python",
   "pygments_lexer": "ipython3",
   "version": "3.9.7"
  }
 },
 "nbformat": 4,
 "nbformat_minor": 5
}
